{
  "cells": [
    {
      "cell_type": "code",
      "execution_count": null,
      "metadata": {
        "id": "zR93potJ68rZ"
      },
      "outputs": [],
      "source": [
        "from sklearn import metrics\n",
        "import pandas as pd\n",
        "import numpy as np\n",
        "from numpy import nan as NA\n",
        "from matplotlib import pyplot as plt\n",
        "from sklearn.cluster import KMeans"
      ]
    },
    {
      "cell_type": "markdown",
      "metadata": {
        "id": "gz1nYzpOXvSU"
      },
      "source": [
        "# **PREPROCESSING**"
      ]
    },
    {
      "cell_type": "markdown",
      "source": [
        "Primero de todo vemos la información básica del dataframe con el que vamos a trabajar.\n",
        "\n",
        "A partir de df.info() observamos que la primera columna no tiene nombre, por lo que sospechamos y posteriormente vemos que se trata de una columna de índices tan solo, por lo que procedemos a eliminarla. También vemos que las columnas tienen valores nulos que posteriormente habra que tratar. Por último, observamos que todas las columnas son de tipo float menos la última que no sabemos exactamente qué tipo de dato contiene.\n",
        "\n",
        "Visualizando las primeras filas es donde vemos que la primera columna corresponde a los índices y que la última, las notas de Programación, usa una escala nominal ordinal."
      ],
      "metadata": {
        "id": "E_-VgZQBbqVX"
      }
    },
    {
      "cell_type": "code",
      "execution_count": null,
      "metadata": {
        "colab": {
          "base_uri": "https://localhost:8080/"
        },
        "id": "H8qCJ8svXvSV",
        "outputId": "1886b876-c1dc-4b48-c89e-d768007ac4aa"
      },
      "outputs": [
        {
          "output_type": "stream",
          "name": "stdout",
          "text": [
            "<class 'pandas.core.frame.DataFrame'>\n",
            "RangeIndex: 86 entries, 0 to 85\n",
            "Data columns (total 7 columns):\n",
            " #   Column      Non-Null Count  Dtype  \n",
            "---  ------      --------------  -----  \n",
            " 0   Unnamed: 0  86 non-null     int64  \n",
            " 1   ML          74 non-null     float64\n",
            " 2   LA          73 non-null     float64\n",
            " 3   OR          77 non-null     float64\n",
            " 4   BD          81 non-null     float64\n",
            " 5   ST          75 non-null     float64\n",
            " 6   PR          84 non-null     object \n",
            "dtypes: float64(5), int64(1), object(1)\n",
            "memory usage: 4.8+ KB\n",
            "     ML    LA   OR   BD    ST PR\n",
            "0  0.77  82.0  6.0  6.7  81.0  A\n",
            "1  0.63  78.0  NaN  7.0  81.0  A\n",
            "2  0.75  73.0  7.0  6.6  81.0  A\n",
            "3  0.55  72.0  6.0  7.0  68.0  B\n",
            "4  0.63  63.0  6.0  7.0  63.0  B\n"
          ]
        }
      ],
      "source": [
        "df = pd.read_csv('grades.csv')\n",
        "df.info()\n",
        "df.shape\n",
        "df.head()\n",
        "df.drop(columns=['Unnamed: 0'], inplace=True)\n",
        "print(df.head())\n"
      ]
    },
    {
      "cell_type": "markdown",
      "source": [
        "## **ESCALADO**\n",
        "Para poder realizar el clustering es necesario que los datos esten escalados. Puesto que estamos habituados a la escala de 0-10 usaremos esta. \n",
        "\n",
        "Este proceso es trivial para todas las columnas (tan solo hay que multiplicar/dividir por 10, o incluso no hacer nada) salvo la uúltima, que usa una escala nominal ordinal.\n",
        "\n",
        "Puesto que esta escala es de A-E (5 categorías), habrá que dividir el intervalo [0-10] en 5, resultando en:\n",
        "\n",
        "*   A: corresponde al rango [8-10]\n",
        "*   B: corresponde al rango [6-8)\n",
        "*   C: corresponde al rango [4-6)\n",
        "*   D: corresponde al rango [2-4)\n",
        "*   E: corresponde al rango [0-2)\n",
        "\n",
        "Como tenemos que usar valores concretos (no podemos usar intervalos) establecemos el punto medio de cada intervalo como valor correspondiente. Por ejemplo si tenemos el valor B, será sustituido por 7."
      ],
      "metadata": {
        "id": "voXKcL14dlnw"
      }
    },
    {
      "cell_type": "code",
      "execution_count": null,
      "metadata": {
        "id": "wCFwe37v8GrL",
        "colab": {
          "base_uri": "https://localhost:8080/",
          "height": 206
        },
        "outputId": "17d9fc82-f10a-4227-dcce-c49dfffdc591"
      },
      "outputs": [
        {
          "output_type": "execute_result",
          "data": {
            "text/plain": [
              "    ML   LA   OR   BD   ST PR\n",
              "0  7.7  8.2  6.0  6.7  8.1  A\n",
              "1  6.3  7.8  NaN  7.0  8.1  A\n",
              "2  7.5  7.3  7.0  6.6  8.1  A\n",
              "3  5.5  7.2  6.0  7.0  6.8  B\n",
              "4  6.3  6.3  6.0  7.0  6.3  B"
            ],
            "text/html": [
              "\n",
              "  <div id=\"df-eed4e350-ef4a-4954-9cbc-e86d4e14b20d\">\n",
              "    <div class=\"colab-df-container\">\n",
              "      <div>\n",
              "<style scoped>\n",
              "    .dataframe tbody tr th:only-of-type {\n",
              "        vertical-align: middle;\n",
              "    }\n",
              "\n",
              "    .dataframe tbody tr th {\n",
              "        vertical-align: top;\n",
              "    }\n",
              "\n",
              "    .dataframe thead th {\n",
              "        text-align: right;\n",
              "    }\n",
              "</style>\n",
              "<table border=\"1\" class=\"dataframe\">\n",
              "  <thead>\n",
              "    <tr style=\"text-align: right;\">\n",
              "      <th></th>\n",
              "      <th>ML</th>\n",
              "      <th>LA</th>\n",
              "      <th>OR</th>\n",
              "      <th>BD</th>\n",
              "      <th>ST</th>\n",
              "      <th>PR</th>\n",
              "    </tr>\n",
              "  </thead>\n",
              "  <tbody>\n",
              "    <tr>\n",
              "      <th>0</th>\n",
              "      <td>7.7</td>\n",
              "      <td>8.2</td>\n",
              "      <td>6.0</td>\n",
              "      <td>6.7</td>\n",
              "      <td>8.1</td>\n",
              "      <td>A</td>\n",
              "    </tr>\n",
              "    <tr>\n",
              "      <th>1</th>\n",
              "      <td>6.3</td>\n",
              "      <td>7.8</td>\n",
              "      <td>NaN</td>\n",
              "      <td>7.0</td>\n",
              "      <td>8.1</td>\n",
              "      <td>A</td>\n",
              "    </tr>\n",
              "    <tr>\n",
              "      <th>2</th>\n",
              "      <td>7.5</td>\n",
              "      <td>7.3</td>\n",
              "      <td>7.0</td>\n",
              "      <td>6.6</td>\n",
              "      <td>8.1</td>\n",
              "      <td>A</td>\n",
              "    </tr>\n",
              "    <tr>\n",
              "      <th>3</th>\n",
              "      <td>5.5</td>\n",
              "      <td>7.2</td>\n",
              "      <td>6.0</td>\n",
              "      <td>7.0</td>\n",
              "      <td>6.8</td>\n",
              "      <td>B</td>\n",
              "    </tr>\n",
              "    <tr>\n",
              "      <th>4</th>\n",
              "      <td>6.3</td>\n",
              "      <td>6.3</td>\n",
              "      <td>6.0</td>\n",
              "      <td>7.0</td>\n",
              "      <td>6.3</td>\n",
              "      <td>B</td>\n",
              "    </tr>\n",
              "  </tbody>\n",
              "</table>\n",
              "</div>\n",
              "      <button class=\"colab-df-convert\" onclick=\"convertToInteractive('df-eed4e350-ef4a-4954-9cbc-e86d4e14b20d')\"\n",
              "              title=\"Convert this dataframe to an interactive table.\"\n",
              "              style=\"display:none;\">\n",
              "        \n",
              "  <svg xmlns=\"http://www.w3.org/2000/svg\" height=\"24px\"viewBox=\"0 0 24 24\"\n",
              "       width=\"24px\">\n",
              "    <path d=\"M0 0h24v24H0V0z\" fill=\"none\"/>\n",
              "    <path d=\"M18.56 5.44l.94 2.06.94-2.06 2.06-.94-2.06-.94-.94-2.06-.94 2.06-2.06.94zm-11 1L8.5 8.5l.94-2.06 2.06-.94-2.06-.94L8.5 2.5l-.94 2.06-2.06.94zm10 10l.94 2.06.94-2.06 2.06-.94-2.06-.94-.94-2.06-.94 2.06-2.06.94z\"/><path d=\"M17.41 7.96l-1.37-1.37c-.4-.4-.92-.59-1.43-.59-.52 0-1.04.2-1.43.59L10.3 9.45l-7.72 7.72c-.78.78-.78 2.05 0 2.83L4 21.41c.39.39.9.59 1.41.59.51 0 1.02-.2 1.41-.59l7.78-7.78 2.81-2.81c.8-.78.8-2.07 0-2.86zM5.41 20L4 18.59l7.72-7.72 1.47 1.35L5.41 20z\"/>\n",
              "  </svg>\n",
              "      </button>\n",
              "      \n",
              "  <style>\n",
              "    .colab-df-container {\n",
              "      display:flex;\n",
              "      flex-wrap:wrap;\n",
              "      gap: 12px;\n",
              "    }\n",
              "\n",
              "    .colab-df-convert {\n",
              "      background-color: #E8F0FE;\n",
              "      border: none;\n",
              "      border-radius: 50%;\n",
              "      cursor: pointer;\n",
              "      display: none;\n",
              "      fill: #1967D2;\n",
              "      height: 32px;\n",
              "      padding: 0 0 0 0;\n",
              "      width: 32px;\n",
              "    }\n",
              "\n",
              "    .colab-df-convert:hover {\n",
              "      background-color: #E2EBFA;\n",
              "      box-shadow: 0px 1px 2px rgba(60, 64, 67, 0.3), 0px 1px 3px 1px rgba(60, 64, 67, 0.15);\n",
              "      fill: #174EA6;\n",
              "    }\n",
              "\n",
              "    [theme=dark] .colab-df-convert {\n",
              "      background-color: #3B4455;\n",
              "      fill: #D2E3FC;\n",
              "    }\n",
              "\n",
              "    [theme=dark] .colab-df-convert:hover {\n",
              "      background-color: #434B5C;\n",
              "      box-shadow: 0px 1px 3px 1px rgba(0, 0, 0, 0.15);\n",
              "      filter: drop-shadow(0px 1px 2px rgba(0, 0, 0, 0.3));\n",
              "      fill: #FFFFFF;\n",
              "    }\n",
              "  </style>\n",
              "\n",
              "      <script>\n",
              "        const buttonEl =\n",
              "          document.querySelector('#df-eed4e350-ef4a-4954-9cbc-e86d4e14b20d button.colab-df-convert');\n",
              "        buttonEl.style.display =\n",
              "          google.colab.kernel.accessAllowed ? 'block' : 'none';\n",
              "\n",
              "        async function convertToInteractive(key) {\n",
              "          const element = document.querySelector('#df-eed4e350-ef4a-4954-9cbc-e86d4e14b20d');\n",
              "          const dataTable =\n",
              "            await google.colab.kernel.invokeFunction('convertToInteractive',\n",
              "                                                     [key], {});\n",
              "          if (!dataTable) return;\n",
              "\n",
              "          const docLinkHtml = 'Like what you see? Visit the ' +\n",
              "            '<a target=\"_blank\" href=https://colab.research.google.com/notebooks/data_table.ipynb>data table notebook</a>'\n",
              "            + ' to learn more about interactive tables.';\n",
              "          element.innerHTML = '';\n",
              "          dataTable['output_type'] = 'display_data';\n",
              "          await google.colab.output.renderOutput(dataTable, element);\n",
              "          const docLink = document.createElement('div');\n",
              "          docLink.innerHTML = docLinkHtml;\n",
              "          element.appendChild(docLink);\n",
              "        }\n",
              "      </script>\n",
              "    </div>\n",
              "  </div>\n",
              "  "
            ]
          },
          "metadata": {},
          "execution_count": 164
        }
      ],
      "source": [
        "#Escalamos las columnas triviales\n",
        "df['ML'] = df['ML']*10\n",
        "df['LA'] = df['LA']/10\n",
        "df['ST'] = df['ST']/10\n",
        "df.head()"
      ]
    },
    {
      "cell_type": "code",
      "execution_count": null,
      "metadata": {
        "colab": {
          "base_uri": "https://localhost:8080/",
          "height": 424
        },
        "id": "_koqqKpU_q_u",
        "outputId": "f5558363-5052-4d72-a419-b5b35cfcdb8d"
      },
      "outputs": [
        {
          "output_type": "execute_result",
          "data": {
            "text/plain": [
              "     ML   LA   OR   BD   ST   PR\n",
              "0   7.7  8.2  6.0  6.7  8.1  9.0\n",
              "1   6.3  7.8  NaN  7.0  8.1  9.0\n",
              "2   7.5  7.3  7.0  6.6  8.1  9.0\n",
              "3   5.5  7.2  6.0  7.0  6.8  7.0\n",
              "4   6.3  6.3  6.0  7.0  6.3  7.0\n",
              "..  ...  ...  ...  ...  ...  ...\n",
              "81  1.5  3.8  3.0  2.8  1.7  1.0\n",
              "82  0.5  3.0  4.0  3.6  1.8  1.0\n",
              "83  1.2  3.0  3.0  3.5  2.1  3.0\n",
              "84  0.5  2.6  1.0  2.0  2.0  3.0\n",
              "85  0.0  4.0  2.0  0.9  1.4  1.0\n",
              "\n",
              "[86 rows x 6 columns]"
            ],
            "text/html": [
              "\n",
              "  <div id=\"df-c7cd668c-a461-4304-9703-f6a9a75d48fa\">\n",
              "    <div class=\"colab-df-container\">\n",
              "      <div>\n",
              "<style scoped>\n",
              "    .dataframe tbody tr th:only-of-type {\n",
              "        vertical-align: middle;\n",
              "    }\n",
              "\n",
              "    .dataframe tbody tr th {\n",
              "        vertical-align: top;\n",
              "    }\n",
              "\n",
              "    .dataframe thead th {\n",
              "        text-align: right;\n",
              "    }\n",
              "</style>\n",
              "<table border=\"1\" class=\"dataframe\">\n",
              "  <thead>\n",
              "    <tr style=\"text-align: right;\">\n",
              "      <th></th>\n",
              "      <th>ML</th>\n",
              "      <th>LA</th>\n",
              "      <th>OR</th>\n",
              "      <th>BD</th>\n",
              "      <th>ST</th>\n",
              "      <th>PR</th>\n",
              "    </tr>\n",
              "  </thead>\n",
              "  <tbody>\n",
              "    <tr>\n",
              "      <th>0</th>\n",
              "      <td>7.7</td>\n",
              "      <td>8.2</td>\n",
              "      <td>6.0</td>\n",
              "      <td>6.7</td>\n",
              "      <td>8.1</td>\n",
              "      <td>9.0</td>\n",
              "    </tr>\n",
              "    <tr>\n",
              "      <th>1</th>\n",
              "      <td>6.3</td>\n",
              "      <td>7.8</td>\n",
              "      <td>NaN</td>\n",
              "      <td>7.0</td>\n",
              "      <td>8.1</td>\n",
              "      <td>9.0</td>\n",
              "    </tr>\n",
              "    <tr>\n",
              "      <th>2</th>\n",
              "      <td>7.5</td>\n",
              "      <td>7.3</td>\n",
              "      <td>7.0</td>\n",
              "      <td>6.6</td>\n",
              "      <td>8.1</td>\n",
              "      <td>9.0</td>\n",
              "    </tr>\n",
              "    <tr>\n",
              "      <th>3</th>\n",
              "      <td>5.5</td>\n",
              "      <td>7.2</td>\n",
              "      <td>6.0</td>\n",
              "      <td>7.0</td>\n",
              "      <td>6.8</td>\n",
              "      <td>7.0</td>\n",
              "    </tr>\n",
              "    <tr>\n",
              "      <th>4</th>\n",
              "      <td>6.3</td>\n",
              "      <td>6.3</td>\n",
              "      <td>6.0</td>\n",
              "      <td>7.0</td>\n",
              "      <td>6.3</td>\n",
              "      <td>7.0</td>\n",
              "    </tr>\n",
              "    <tr>\n",
              "      <th>...</th>\n",
              "      <td>...</td>\n",
              "      <td>...</td>\n",
              "      <td>...</td>\n",
              "      <td>...</td>\n",
              "      <td>...</td>\n",
              "      <td>...</td>\n",
              "    </tr>\n",
              "    <tr>\n",
              "      <th>81</th>\n",
              "      <td>1.5</td>\n",
              "      <td>3.8</td>\n",
              "      <td>3.0</td>\n",
              "      <td>2.8</td>\n",
              "      <td>1.7</td>\n",
              "      <td>1.0</td>\n",
              "    </tr>\n",
              "    <tr>\n",
              "      <th>82</th>\n",
              "      <td>0.5</td>\n",
              "      <td>3.0</td>\n",
              "      <td>4.0</td>\n",
              "      <td>3.6</td>\n",
              "      <td>1.8</td>\n",
              "      <td>1.0</td>\n",
              "    </tr>\n",
              "    <tr>\n",
              "      <th>83</th>\n",
              "      <td>1.2</td>\n",
              "      <td>3.0</td>\n",
              "      <td>3.0</td>\n",
              "      <td>3.5</td>\n",
              "      <td>2.1</td>\n",
              "      <td>3.0</td>\n",
              "    </tr>\n",
              "    <tr>\n",
              "      <th>84</th>\n",
              "      <td>0.5</td>\n",
              "      <td>2.6</td>\n",
              "      <td>1.0</td>\n",
              "      <td>2.0</td>\n",
              "      <td>2.0</td>\n",
              "      <td>3.0</td>\n",
              "    </tr>\n",
              "    <tr>\n",
              "      <th>85</th>\n",
              "      <td>0.0</td>\n",
              "      <td>4.0</td>\n",
              "      <td>2.0</td>\n",
              "      <td>0.9</td>\n",
              "      <td>1.4</td>\n",
              "      <td>1.0</td>\n",
              "    </tr>\n",
              "  </tbody>\n",
              "</table>\n",
              "<p>86 rows × 6 columns</p>\n",
              "</div>\n",
              "      <button class=\"colab-df-convert\" onclick=\"convertToInteractive('df-c7cd668c-a461-4304-9703-f6a9a75d48fa')\"\n",
              "              title=\"Convert this dataframe to an interactive table.\"\n",
              "              style=\"display:none;\">\n",
              "        \n",
              "  <svg xmlns=\"http://www.w3.org/2000/svg\" height=\"24px\"viewBox=\"0 0 24 24\"\n",
              "       width=\"24px\">\n",
              "    <path d=\"M0 0h24v24H0V0z\" fill=\"none\"/>\n",
              "    <path d=\"M18.56 5.44l.94 2.06.94-2.06 2.06-.94-2.06-.94-.94-2.06-.94 2.06-2.06.94zm-11 1L8.5 8.5l.94-2.06 2.06-.94-2.06-.94L8.5 2.5l-.94 2.06-2.06.94zm10 10l.94 2.06.94-2.06 2.06-.94-2.06-.94-.94-2.06-.94 2.06-2.06.94z\"/><path d=\"M17.41 7.96l-1.37-1.37c-.4-.4-.92-.59-1.43-.59-.52 0-1.04.2-1.43.59L10.3 9.45l-7.72 7.72c-.78.78-.78 2.05 0 2.83L4 21.41c.39.39.9.59 1.41.59.51 0 1.02-.2 1.41-.59l7.78-7.78 2.81-2.81c.8-.78.8-2.07 0-2.86zM5.41 20L4 18.59l7.72-7.72 1.47 1.35L5.41 20z\"/>\n",
              "  </svg>\n",
              "      </button>\n",
              "      \n",
              "  <style>\n",
              "    .colab-df-container {\n",
              "      display:flex;\n",
              "      flex-wrap:wrap;\n",
              "      gap: 12px;\n",
              "    }\n",
              "\n",
              "    .colab-df-convert {\n",
              "      background-color: #E8F0FE;\n",
              "      border: none;\n",
              "      border-radius: 50%;\n",
              "      cursor: pointer;\n",
              "      display: none;\n",
              "      fill: #1967D2;\n",
              "      height: 32px;\n",
              "      padding: 0 0 0 0;\n",
              "      width: 32px;\n",
              "    }\n",
              "\n",
              "    .colab-df-convert:hover {\n",
              "      background-color: #E2EBFA;\n",
              "      box-shadow: 0px 1px 2px rgba(60, 64, 67, 0.3), 0px 1px 3px 1px rgba(60, 64, 67, 0.15);\n",
              "      fill: #174EA6;\n",
              "    }\n",
              "\n",
              "    [theme=dark] .colab-df-convert {\n",
              "      background-color: #3B4455;\n",
              "      fill: #D2E3FC;\n",
              "    }\n",
              "\n",
              "    [theme=dark] .colab-df-convert:hover {\n",
              "      background-color: #434B5C;\n",
              "      box-shadow: 0px 1px 3px 1px rgba(0, 0, 0, 0.15);\n",
              "      filter: drop-shadow(0px 1px 2px rgba(0, 0, 0, 0.3));\n",
              "      fill: #FFFFFF;\n",
              "    }\n",
              "  </style>\n",
              "\n",
              "      <script>\n",
              "        const buttonEl =\n",
              "          document.querySelector('#df-c7cd668c-a461-4304-9703-f6a9a75d48fa button.colab-df-convert');\n",
              "        buttonEl.style.display =\n",
              "          google.colab.kernel.accessAllowed ? 'block' : 'none';\n",
              "\n",
              "        async function convertToInteractive(key) {\n",
              "          const element = document.querySelector('#df-c7cd668c-a461-4304-9703-f6a9a75d48fa');\n",
              "          const dataTable =\n",
              "            await google.colab.kernel.invokeFunction('convertToInteractive',\n",
              "                                                     [key], {});\n",
              "          if (!dataTable) return;\n",
              "\n",
              "          const docLinkHtml = 'Like what you see? Visit the ' +\n",
              "            '<a target=\"_blank\" href=https://colab.research.google.com/notebooks/data_table.ipynb>data table notebook</a>'\n",
              "            + ' to learn more about interactive tables.';\n",
              "          element.innerHTML = '';\n",
              "          dataTable['output_type'] = 'display_data';\n",
              "          await google.colab.output.renderOutput(dataTable, element);\n",
              "          const docLink = document.createElement('div');\n",
              "          docLink.innerHTML = docLinkHtml;\n",
              "          element.appendChild(docLink);\n",
              "        }\n",
              "      </script>\n",
              "    </div>\n",
              "  </div>\n",
              "  "
            ]
          },
          "metadata": {},
          "execution_count": 165
        }
      ],
      "source": [
        "\n",
        "mapping = {'A': 9, 'B': 7, 'C': 5, 'D':3, 'E': 1}\n",
        "df['PR'] = df['PR'].map(mapping)\n",
        "df"
      ]
    },
    {
      "cell_type": "markdown",
      "source": [
        "## **TRATAMIENTO DE NULOS**\n",
        "Una vez disponemos de los datos corectamente escalados procedemos a tratar los nulos.\n",
        "\n",
        "Primero de todo queremos saber cuántos nulos hay en cada columna, y vemos que no hay columna que no tengo algún nulo. Además, no sabemos si estos nulos tienen significado alguno, como por ejemplo denotar que un alumno no se ha presentado a dicha asignatura, o si son tan solo fallos del sistema."
      ],
      "metadata": {
        "id": "EduM5DPzhxNv"
      }
    },
    {
      "cell_type": "code",
      "execution_count": null,
      "metadata": {
        "colab": {
          "base_uri": "https://localhost:8080/",
          "height": 328
        },
        "id": "e3YEnUgL-uRV",
        "outputId": "95949887-ae29-4e35-eb04-23c042c710b2"
      },
      "outputs": [
        {
          "output_type": "stream",
          "name": "stdout",
          "text": [
            "ML    12\n",
            "LA    13\n",
            "OR     9\n",
            "BD     5\n",
            "ST    11\n",
            "PR     2\n",
            "dtype: int64\n"
          ]
        },
        {
          "output_type": "execute_result",
          "data": {
            "text/plain": [
              "     ML   LA   OR   BD   ST   PR\n",
              "1   6.3  7.8  NaN  7.0  8.1  9.0\n",
              "5   5.3  NaN  7.0  6.4  7.3  7.0\n",
              "6   5.1  6.7  6.0  NaN  6.8  7.0\n",
              "10  5.5  6.7  5.0  6.2  NaN  5.0\n",
              "11  5.0  NaN  6.0  5.5  NaN  7.0"
            ],
            "text/html": [
              "\n",
              "  <div id=\"df-cb86cb5b-bb55-4551-bcc3-54cc0b1b4a7d\">\n",
              "    <div class=\"colab-df-container\">\n",
              "      <div>\n",
              "<style scoped>\n",
              "    .dataframe tbody tr th:only-of-type {\n",
              "        vertical-align: middle;\n",
              "    }\n",
              "\n",
              "    .dataframe tbody tr th {\n",
              "        vertical-align: top;\n",
              "    }\n",
              "\n",
              "    .dataframe thead th {\n",
              "        text-align: right;\n",
              "    }\n",
              "</style>\n",
              "<table border=\"1\" class=\"dataframe\">\n",
              "  <thead>\n",
              "    <tr style=\"text-align: right;\">\n",
              "      <th></th>\n",
              "      <th>ML</th>\n",
              "      <th>LA</th>\n",
              "      <th>OR</th>\n",
              "      <th>BD</th>\n",
              "      <th>ST</th>\n",
              "      <th>PR</th>\n",
              "    </tr>\n",
              "  </thead>\n",
              "  <tbody>\n",
              "    <tr>\n",
              "      <th>1</th>\n",
              "      <td>6.3</td>\n",
              "      <td>7.8</td>\n",
              "      <td>NaN</td>\n",
              "      <td>7.0</td>\n",
              "      <td>8.1</td>\n",
              "      <td>9.0</td>\n",
              "    </tr>\n",
              "    <tr>\n",
              "      <th>5</th>\n",
              "      <td>5.3</td>\n",
              "      <td>NaN</td>\n",
              "      <td>7.0</td>\n",
              "      <td>6.4</td>\n",
              "      <td>7.3</td>\n",
              "      <td>7.0</td>\n",
              "    </tr>\n",
              "    <tr>\n",
              "      <th>6</th>\n",
              "      <td>5.1</td>\n",
              "      <td>6.7</td>\n",
              "      <td>6.0</td>\n",
              "      <td>NaN</td>\n",
              "      <td>6.8</td>\n",
              "      <td>7.0</td>\n",
              "    </tr>\n",
              "    <tr>\n",
              "      <th>10</th>\n",
              "      <td>5.5</td>\n",
              "      <td>6.7</td>\n",
              "      <td>5.0</td>\n",
              "      <td>6.2</td>\n",
              "      <td>NaN</td>\n",
              "      <td>5.0</td>\n",
              "    </tr>\n",
              "    <tr>\n",
              "      <th>11</th>\n",
              "      <td>5.0</td>\n",
              "      <td>NaN</td>\n",
              "      <td>6.0</td>\n",
              "      <td>5.5</td>\n",
              "      <td>NaN</td>\n",
              "      <td>7.0</td>\n",
              "    </tr>\n",
              "  </tbody>\n",
              "</table>\n",
              "</div>\n",
              "      <button class=\"colab-df-convert\" onclick=\"convertToInteractive('df-cb86cb5b-bb55-4551-bcc3-54cc0b1b4a7d')\"\n",
              "              title=\"Convert this dataframe to an interactive table.\"\n",
              "              style=\"display:none;\">\n",
              "        \n",
              "  <svg xmlns=\"http://www.w3.org/2000/svg\" height=\"24px\"viewBox=\"0 0 24 24\"\n",
              "       width=\"24px\">\n",
              "    <path d=\"M0 0h24v24H0V0z\" fill=\"none\"/>\n",
              "    <path d=\"M18.56 5.44l.94 2.06.94-2.06 2.06-.94-2.06-.94-.94-2.06-.94 2.06-2.06.94zm-11 1L8.5 8.5l.94-2.06 2.06-.94-2.06-.94L8.5 2.5l-.94 2.06-2.06.94zm10 10l.94 2.06.94-2.06 2.06-.94-2.06-.94-.94-2.06-.94 2.06-2.06.94z\"/><path d=\"M17.41 7.96l-1.37-1.37c-.4-.4-.92-.59-1.43-.59-.52 0-1.04.2-1.43.59L10.3 9.45l-7.72 7.72c-.78.78-.78 2.05 0 2.83L4 21.41c.39.39.9.59 1.41.59.51 0 1.02-.2 1.41-.59l7.78-7.78 2.81-2.81c.8-.78.8-2.07 0-2.86zM5.41 20L4 18.59l7.72-7.72 1.47 1.35L5.41 20z\"/>\n",
              "  </svg>\n",
              "      </button>\n",
              "      \n",
              "  <style>\n",
              "    .colab-df-container {\n",
              "      display:flex;\n",
              "      flex-wrap:wrap;\n",
              "      gap: 12px;\n",
              "    }\n",
              "\n",
              "    .colab-df-convert {\n",
              "      background-color: #E8F0FE;\n",
              "      border: none;\n",
              "      border-radius: 50%;\n",
              "      cursor: pointer;\n",
              "      display: none;\n",
              "      fill: #1967D2;\n",
              "      height: 32px;\n",
              "      padding: 0 0 0 0;\n",
              "      width: 32px;\n",
              "    }\n",
              "\n",
              "    .colab-df-convert:hover {\n",
              "      background-color: #E2EBFA;\n",
              "      box-shadow: 0px 1px 2px rgba(60, 64, 67, 0.3), 0px 1px 3px 1px rgba(60, 64, 67, 0.15);\n",
              "      fill: #174EA6;\n",
              "    }\n",
              "\n",
              "    [theme=dark] .colab-df-convert {\n",
              "      background-color: #3B4455;\n",
              "      fill: #D2E3FC;\n",
              "    }\n",
              "\n",
              "    [theme=dark] .colab-df-convert:hover {\n",
              "      background-color: #434B5C;\n",
              "      box-shadow: 0px 1px 3px 1px rgba(0, 0, 0, 0.15);\n",
              "      filter: drop-shadow(0px 1px 2px rgba(0, 0, 0, 0.3));\n",
              "      fill: #FFFFFF;\n",
              "    }\n",
              "  </style>\n",
              "\n",
              "      <script>\n",
              "        const buttonEl =\n",
              "          document.querySelector('#df-cb86cb5b-bb55-4551-bcc3-54cc0b1b4a7d button.colab-df-convert');\n",
              "        buttonEl.style.display =\n",
              "          google.colab.kernel.accessAllowed ? 'block' : 'none';\n",
              "\n",
              "        async function convertToInteractive(key) {\n",
              "          const element = document.querySelector('#df-cb86cb5b-bb55-4551-bcc3-54cc0b1b4a7d');\n",
              "          const dataTable =\n",
              "            await google.colab.kernel.invokeFunction('convertToInteractive',\n",
              "                                                     [key], {});\n",
              "          if (!dataTable) return;\n",
              "\n",
              "          const docLinkHtml = 'Like what you see? Visit the ' +\n",
              "            '<a target=\"_blank\" href=https://colab.research.google.com/notebooks/data_table.ipynb>data table notebook</a>'\n",
              "            + ' to learn more about interactive tables.';\n",
              "          element.innerHTML = '';\n",
              "          dataTable['output_type'] = 'display_data';\n",
              "          await google.colab.output.renderOutput(dataTable, element);\n",
              "          const docLink = document.createElement('div');\n",
              "          docLink.innerHTML = docLinkHtml;\n",
              "          element.appendChild(docLink);\n",
              "        }\n",
              "      </script>\n",
              "    </div>\n",
              "  </div>\n",
              "  "
            ]
          },
          "metadata": {},
          "execution_count": 166
        }
      ],
      "source": [
        "print(df.isna().sum())\n",
        "df[df.isna().any(axis=1)].head()"
      ]
    },
    {
      "cell_type": "markdown",
      "source": [
        "Ademas de nulos, puede haber errores en los valores, por lo que comprobamos si existen valores fuera de la escala [0-10] usada.\n",
        "\n",
        "Como se puede ver existen valores negativos y mayores que 10. \n",
        "Al igual que los nulos no podemos asumir nada sobre el por qué de estos datos, estos podrían ser debidos a un error en añadir el signo '-' en el caso de los negativos, o un desplazamiento de coma/adición de un número en los positivos. \n",
        "\n",
        "Como no podemos sacar conclusiones sin base alguna procedemos a establecerlos como nulos."
      ],
      "metadata": {
        "id": "qgs3fMlhi1Hn"
      }
    },
    {
      "cell_type": "code",
      "execution_count": null,
      "metadata": {
        "colab": {
          "base_uri": "https://localhost:8080/"
        },
        "id": "549kb1tDDEMi",
        "outputId": "aeb516f3-6e9f-4d5f-8850-18f5fe17333e"
      },
      "outputs": [
        {
          "output_type": "stream",
          "name": "stdout",
          "text": [
            "      ML   LA   OR   BD   ST   PR\n",
            "55  -1.2  4.4  5.0  4.7  NaN  3.0\n",
            "59  12.0 -0.3  4.0  4.4  3.3  3.0\n",
            "62   3.5 -0.1  4.0  4.8  2.9  3.0\n",
            "      ML   LA   OR   BD    ST   PR\n",
            "54   3.5  3.5  4.0  5.1  15.2  5.0\n",
            "59  12.0 -0.3  4.0  4.4   3.3  3.0\n"
          ]
        }
      ],
      "source": [
        "print(df[(df<0).any(axis=1)])\n",
        "print(df[(df>10).any(axis=1)])\n",
        "\n",
        "df[(df<0).any(axis=1)] = NA\n",
        "df[(df>10).any(axis=1)] = NA"
      ]
    },
    {
      "cell_type": "markdown",
      "source": [
        "Es hora de tratar los nulos, y debido a la poca cantidad de datos (86 muestras) no consideramos apropiado descartar aquellas con algun nulo.\n",
        "\n",
        "Los nulos de cada muestra son de caracter MCAR ya que su ausencia no esta relacionada con ningún valor de ninguna variable de dicha muestra.\n",
        "\n",
        "Tras probar distintas opciones como establecer la nota media del alumno en aquellos nulos o la media de la asignatura, nos decantamos por hacer uso de KNNImputer para completar los valores que faltan, ya que con un 14,5% de valores nulos podemos imputar estos a partir de los que si disponemos."
      ],
      "metadata": {
        "id": "CZVKYqAcnryu"
      }
    },
    {
      "cell_type": "code",
      "execution_count": null,
      "metadata": {
        "colab": {
          "base_uri": "https://localhost:8080/"
        },
        "id": "O8dpF-xTLZtY",
        "outputId": "9235f533-7bc8-47aa-9a1f-54913efde05e"
      },
      "outputs": [
        {
          "output_type": "stream",
          "name": "stdout",
          "text": [
            "0.14534883720930233\n",
            "ML    0\n",
            "LA    0\n",
            "OR    0\n",
            "BD    0\n",
            "ST    0\n",
            "PR    0\n",
            "dtype: int64\n"
          ]
        }
      ],
      "source": [
        "missing_data_prop = df.isna().sum().sum()/(86*6)\n",
        "print(missing_data_prop)\n",
        "\n",
        "from sklearn.impute import KNNImputer\n",
        "imputer = KNNImputer(n_neighbors=5, weights=\"distance\", copy=False)\n",
        "imputer.fit_transform(df)\n",
        "print(df.isna().sum())\n",
        "\n"
      ]
    },
    {
      "cell_type": "markdown",
      "metadata": {
        "id": "cwnBNCO6RuVj",
        "outputId": "f86a1a90-12b7-4b49-dae1-c899b19a1c27"
      },
      "source": [
        "# **CLUSTERING**"
      ]
    },
    {
      "cell_type": "markdown",
      "metadata": {
        "id": "wH6v1thKXvSZ"
      },
      "source": [
        "## **Hierarchical CLustering**"
      ]
    },
    {
      "cell_type": "markdown",
      "source": [
        "Importamos las librerías necesarias y hacemos uso de una función que nos permitirá representar el clustering en un dendograma"
      ],
      "metadata": {
        "id": "vnjWntxjo-tJ"
      }
    },
    {
      "cell_type": "code",
      "execution_count": null,
      "metadata": {
        "id": "4lTe-X7rXvSZ"
      },
      "outputs": [],
      "source": [
        "from sklearn.cluster import AgglomerativeClustering\n",
        "import scipy.cluster.hierarchy as sch\n",
        "import sklearn.metrics as sm\n",
        "\n",
        "\n",
        "X = df\n",
        "\n",
        "def plot_dendrogram(model, **kwargs):\n",
        "    counts = np.zeros(model.children_.shape[0])\n",
        "    n_samples = len(model.labels_)\n",
        "    for i, merge in enumerate(model.children_):\n",
        "        current_count = 0\n",
        "        for child_idx in merge:\n",
        "            if child_idx < n_samples:\n",
        "                current_count += 1\n",
        "            else:\n",
        "                current_count += counts[child_idx - n_samples]\n",
        "        counts[i] = current_count\n",
        "\n",
        "    linkage_matrix = np.column_stack(\n",
        "        [model.children_, model.distances_, counts]\n",
        "    ).astype(float)\n",
        "\n",
        "    sch.dendrogram(linkage_matrix, **kwargs)\n",
        "    \n"
      ]
    },
    {
      "cell_type": "markdown",
      "source": [
        "Hacemos uso de Agglomerative Clustering probando los distintos tipos de linkage."
      ],
      "metadata": {
        "id": "TTbEc0MvpNxj"
      }
    },
    {
      "cell_type": "code",
      "source": [
        "single = AgglomerativeClustering(linkage='single', compute_distances=True)\n",
        "ys = single.fit(X)\n",
        "complete = AgglomerativeClustering(linkage='complete', compute_distances=True)\n",
        "yc = complete.fit(X)\n",
        "average = AgglomerativeClustering(linkage='average', compute_distances=True)\n",
        "ya = average.fit(X)\n",
        "ward = AgglomerativeClustering(linkage='ward', compute_distances=True)\n",
        "yw = ward.fit(X)"
      ],
      "metadata": {
        "id": "EePL7uTqs8Vm"
      },
      "execution_count": null,
      "outputs": []
    },
    {
      "cell_type": "markdown",
      "source": [
        "Imprimimos los dendogramas correspondientes"
      ],
      "metadata": {
        "id": "tPmWJi5zpewu"
      }
    },
    {
      "cell_type": "markdown",
      "source": [
        "**SINGLE**: No se pueden ver clusters claramente, no parece ser la opción más acertada para nuestro dataset\n",
        "\n",
        "\n"
      ],
      "metadata": {
        "id": "NDDdDVrfsg83"
      }
    },
    {
      "cell_type": "code",
      "execution_count": null,
      "metadata": {
        "colab": {
          "base_uri": "https://localhost:8080/",
          "height": 262
        },
        "id": "MVPkrN5jXvSa",
        "outputId": "094ad424-777c-4165-aaf5-2d2f12112403"
      },
      "outputs": [
        {
          "output_type": "display_data",
          "data": {
            "text/plain": [
              "<Figure size 432x288 with 1 Axes>"
            ],
            "image/png": "[encoded data removed]"
          },
          "metadata": {
            "needs_background": "light"
          }
        }
      ],
      "source": [
        "plot_dendrogram(single, truncate_mode=\"level\", p=0)\n",
        "mean_sil = metrics.silhouette_score(X, labels, metric='euclidean')"
      ]
    },
    {
      "cell_type": "markdown",
      "source": [
        "**COMPLETE**: Se podrían obtener 3 clusters, 2 de tamaño similar y otro más grande"
      ],
      "metadata": {
        "id": "RyPKhAAX15KH"
      }
    },
    {
      "cell_type": "code",
      "source": [
        "plot_dendrogram(complete, truncate_mode=\"level\", p=0)\n",
        "plt.axhline(y = 8, color = 'r', linestyle = '-.')"
      ],
      "metadata": {
        "colab": {
          "base_uri": "https://localhost:8080/",
          "height": 281
        },
        "id": "VpVhoctWseiU",
        "outputId": "67849da4-d61f-40a1-a7ae-2dcfbfc0e30c"
      },
      "execution_count": null,
      "outputs": [
        {
          "output_type": "execute_result",
          "data": {
            "text/plain": [
              "<matplotlib.lines.Line2D at 0x7f3ddb493c10>"
            ]
          },
          "metadata": {},
          "execution_count": 172
        },
        {
          "output_type": "display_data",
          "data": {
            "text/plain": [
              "<Figure size 432x288 with 1 Axes>"
            ],
            "image/png": "[encoded data removed]"
          },
          "metadata": {
            "needs_background": "light"
          }
        }
      ]
    },
    {
      "cell_type": "markdown",
      "source": [
        "\n",
        "\n",
        "**AVERAGE**: También parece haber 3 clusters bien formados, al igual que antes hay un cluster más grande que el resto"
      ],
      "metadata": {
        "id": "2B6FxDie22Q8"
      }
    },
    {
      "cell_type": "code",
      "source": [
        "plot_dendrogram(average, truncate_mode=\"level\", p=0)\n",
        "plt.axhline(y = 5, color = 'r', linestyle = '-.')\n"
      ],
      "metadata": {
        "colab": {
          "base_uri": "https://localhost:8080/",
          "height": 279
        },
        "id": "j0ibwyzPs4EE",
        "outputId": "1c8ea686-9c26-4e58-9dce-b2f5b3f4eba7"
      },
      "execution_count": null,
      "outputs": [
        {
          "output_type": "execute_result",
          "data": {
            "text/plain": [
              "<matplotlib.lines.Line2D at 0x7f3ddb33c050>"
            ]
          },
          "metadata": {},
          "execution_count": 173
        },
        {
          "output_type": "display_data",
          "data": {
            "text/plain": [
              "<Figure size 432x288 with 1 Axes>"
            ],
            "image/png": "[encoded data removed]"
          },
          "metadata": {
            "needs_background": "light"
          }
        }
      ]
    },
    {
      "cell_type": "markdown",
      "source": [
        "**WARD**: En este caso podríamos optar por 2 opciones distintas. La primera sería quedarnos con 4 clusters de tamaño similar (rojo), mientras que la segunda opción sería segmentar en 3 clusters habiendo uno notablemente más grande (verde)"
      ],
      "metadata": {
        "id": "VbUG32rn4eel"
      }
    },
    {
      "cell_type": "code",
      "source": [
        "plot_dendrogram(ward, truncate_mode=\"level\", p=0)\n",
        "plt.axhline(y = 12, color = 'r', linestyle = '-.')\n",
        "plt.axhline(y = 15, color = 'g', linestyle = '-.')"
      ],
      "metadata": {
        "colab": {
          "base_uri": "https://localhost:8080/",
          "height": 279
        },
        "id": "QVZft8Dzs4oE",
        "outputId": "60e2a29c-f6b9-455d-b7e6-4557f4a858cf"
      },
      "execution_count": null,
      "outputs": [
        {
          "output_type": "execute_result",
          "data": {
            "text/plain": [
              "<matplotlib.lines.Line2D at 0x7f3ddb67e750>"
            ]
          },
          "metadata": {},
          "execution_count": 174
        },
        {
          "output_type": "display_data",
          "data": {
            "text/plain": [
              "<Figure size 432x288 with 1 Axes>"
            ],
            "image/png": "[encoded data removed]"
          },
          "metadata": {
            "needs_background": "light"
          }
        }
      ]
    },
    {
      "cell_type": "markdown",
      "metadata": {
        "id": "KZlu0ZDWXvSa"
      },
      "source": [
        "A partir de estos dendogramas creemos que K=3 parece un buen número de clusters para nuestros datos. De entre los modelos anteriores, el que segmenta más claramente los datos en 3 clusters sería usando linkage='average'"
      ]
    },
    {
      "cell_type": "markdown",
      "source": [
        "Procedemos ahora a usar distintas métricas. Previamente estábamos usando la euclídea. Por lo que nos quedaría explorar las métricas: l1, l2, manhattan y cosine. \n",
        "\n",
        "Experimentando con estas métricas vimos que la métrica l2 lleva al mismo dendograma que usando la euclídea, y lo mismo ocurre entre las métricas l1 y manhattan. La cosine devuelve dendogramas poco acertados para nuestro dataset.\n",
        "\n",
        "Esta vez no evaluaremos de nuevo con linkage='ward' puesto que necesariamente este requiere de una métrica euclídea.\n",
        "\n",
        "Puesto que l2 lleva a lo mismo que euclidean y manhattan y l1 llevan al mismo resultado, tan solo mostraremos los dendogramas usando la métrica manhattan"
      ],
      "metadata": {
        "id": "nh3lvtXjtnWo"
      }
    },
    {
      "cell_type": "code",
      "execution_count": null,
      "metadata": {
        "id": "ZzcbIKhGXvSb"
      },
      "outputs": [],
      "source": [
        "\n",
        "single2 = AgglomerativeClustering(linkage='single', affinity='manhattan', compute_distances=True)\n",
        "ys2 = single2.fit(X)\n",
        "complete2 = AgglomerativeClustering(linkage='complete', affinity='manhattan', compute_distances=True)\n",
        "yc2 = complete2.fit(X)\n",
        "average2 = AgglomerativeClustering(linkage='average', affinity='manhattan', compute_distances=True)\n",
        "ya2 = average2.fit(X)\n"
      ]
    },
    {
      "cell_type": "markdown",
      "source": [
        "**SINGLE**: Al igual que antes no hay clusters claramente definidos. Definitivamente con linkage single no obtenemos buenos resultados"
      ],
      "metadata": {
        "id": "3EuNR9nJ5a1G"
      }
    },
    {
      "cell_type": "code",
      "execution_count": null,
      "metadata": {
        "colab": {
          "base_uri": "https://localhost:8080/",
          "height": 262
        },
        "id": "G-LhJPr8XvSb",
        "outputId": "1e3f6ab0-c65f-4b7e-8806-f2f88acfbba3"
      },
      "outputs": [
        {
          "output_type": "display_data",
          "data": {
            "text/plain": [
              "<Figure size 432x288 with 1 Axes>"
            ],
            "image/png": "[encoded data removed]"
          },
          "metadata": {
            "needs_background": "light"
          }
        }
      ],
      "source": [
        "plot_dendrogram(single2, truncate_mode=\"level\", p=0)\n",
        "\n"
      ]
    },
    {
      "cell_type": "markdown",
      "source": [
        "**Complete**: Podemos ver 2 grandes clusters de tamaño muy similar"
      ],
      "metadata": {
        "id": "Whs_HJ7Ovd4m"
      }
    },
    {
      "cell_type": "code",
      "source": [
        "plot_dendrogram(complete2, truncate_mode=\"level\", p=0)\n",
        "plt.axhline(y = 24, color = 'r', linestyle = '-.')"
      ],
      "metadata": {
        "colab": {
          "base_uri": "https://localhost:8080/",
          "height": 279
        },
        "id": "KxmR4id_vEwE",
        "outputId": "f2f35057-5f87-488b-b1c2-51364c28fcd9"
      },
      "execution_count": null,
      "outputs": [
        {
          "output_type": "execute_result",
          "data": {
            "text/plain": [
              "<matplotlib.lines.Line2D at 0x7f3dddc61210>"
            ]
          },
          "metadata": {},
          "execution_count": 177
        },
        {
          "output_type": "display_data",
          "data": {
            "text/plain": [
              "<Figure size 432x288 with 1 Axes>"
            ],
            "image/png": "[encoded data removed]"
          },
          "metadata": {
            "needs_background": "light"
          }
        }
      ]
    },
    {
      "cell_type": "markdown",
      "source": [
        "**AVERAGE**: Se podría dividir en 3 clusters, de tamaños muy distintos, teniendo un cluster con tan solo 3 muestras. No parece la opción más acertada"
      ],
      "metadata": {
        "id": "nV0TbxQz57e0"
      }
    },
    {
      "cell_type": "code",
      "source": [
        "plot_dendrogram(average2, truncate_mode=\"level\", p=0)\n",
        "plt.axhline(y = 11.5, color = 'r', linestyle = '-.')"
      ],
      "metadata": {
        "colab": {
          "base_uri": "https://localhost:8080/",
          "height": 281
        },
        "id": "i7Rm908tvEo0",
        "outputId": "bb5e7947-a669-4d8b-8c0d-ad7160a11a9e"
      },
      "execution_count": null,
      "outputs": [
        {
          "output_type": "execute_result",
          "data": {
            "text/plain": [
              "<matplotlib.lines.Line2D at 0x7f3ddba04950>"
            ]
          },
          "metadata": {},
          "execution_count": 178
        },
        {
          "output_type": "display_data",
          "data": {
            "text/plain": [
              "<Figure size 432x288 with 1 Axes>"
            ],
            "image/png": "[encoded data removed]"
          },
          "metadata": {
            "needs_background": "light"
          }
        }
      ]
    },
    {
      "cell_type": "markdown",
      "source": [
        "### **EVALUACIÓN MODELOS**"
      ],
      "metadata": {
        "id": "a7hfmAPxDpaB"
      }
    },
    {
      "cell_type": "markdown",
      "source": [
        "Tras haber probado con todos los linkages y métricas creemos que para nuestro conjunto de datos la opción más adecuada sería aquella con 3 clusters pues es lo que observamos en la mayoría de dendogramas representativos. Basándonos en los dendogramas la opción más adecuada nos parece aquella con linkage='average' con una métrica euclídea puesto que se pueden observar 3 clusters claramente definidos a la misma altura y de dimensiones relativamente similares.\n",
        "\n",
        "Vamos a evaluar con el coeficiente de Silhouette cual sería la opción más adecuada de entre:\n",
        "*   Complete - euclidean (K=3)\n",
        "*   Average - euclidean (K=3)\n",
        "*   Ward - euclidean (K=3, K=4)\n",
        "*   Complete - manhattan (K=3)\n",
        "\n",
        "\n",
        "\n"
      ],
      "metadata": {
        "id": "Z6sMRCMUvr-C"
      }
    },
    {
      "cell_type": "markdown",
      "source": [
        "**Complete - euclidean (K=3)**\n"
      ],
      "metadata": {
        "id": "86UxsZWoCJoB"
      }
    },
    {
      "cell_type": "code",
      "source": [
        "complete = AgglomerativeClustering(n_clusters=3, linkage='complete', compute_distances=True)\n",
        "yc = complete.fit(X)\n",
        "labels = yc.labels_\n",
        "metrics.silhouette_score(X, labels, metric='euclidean')\n"
      ],
      "metadata": {
        "colab": {
          "base_uri": "https://localhost:8080/"
        },
        "id": "AguFse3FBNVE",
        "outputId": "78501b79-7904-4214-db87-b952b6a80c00"
      },
      "execution_count": null,
      "outputs": [
        {
          "output_type": "execute_result",
          "data": {
            "text/plain": [
              "0.3039990502317843"
            ]
          },
          "metadata": {},
          "execution_count": 179
        }
      ]
    },
    {
      "cell_type": "markdown",
      "source": [
        "**Average - euclidean (K=3)**"
      ],
      "metadata": {
        "id": "EZeyXtA7Comq"
      }
    },
    {
      "cell_type": "code",
      "source": [
        "average = AgglomerativeClustering(n_clusters=3, linkage='average', compute_distances=True)\n",
        "ya = average.fit(X)\n",
        "labels = ya.labels_\n",
        "metrics.silhouette_score(X, labels, metric='euclidean')"
      ],
      "metadata": {
        "colab": {
          "base_uri": "https://localhost:8080/"
        },
        "id": "uwUf0Bk6CoaX",
        "outputId": "854f2919-6895-42da-f202-5b26d0bd4e3f"
      },
      "execution_count": null,
      "outputs": [
        {
          "output_type": "execute_result",
          "data": {
            "text/plain": [
              "0.33284456696000736"
            ]
          },
          "metadata": {},
          "execution_count": 180
        }
      ]
    },
    {
      "cell_type": "markdown",
      "source": [
        "**Ward - euclidean (K=3)**"
      ],
      "metadata": {
        "id": "TOBvL2cGC3ct"
      }
    },
    {
      "cell_type": "code",
      "source": [
        "ward = AgglomerativeClustering(n_clusters=3, linkage='ward', compute_distances=True)\n",
        "yw = ward.fit(X)\n",
        "labels = yw.labels_\n",
        "metrics.silhouette_score(X, labels, metric='euclidean')"
      ],
      "metadata": {
        "colab": {
          "base_uri": "https://localhost:8080/"
        },
        "id": "NxuoyU0FC3RL",
        "outputId": "14a6ccf8-4330-4a09-9ef2-3620edb17b8d"
      },
      "execution_count": null,
      "outputs": [
        {
          "output_type": "execute_result",
          "data": {
            "text/plain": [
              "0.3275755614204932"
            ]
          },
          "metadata": {},
          "execution_count": 181
        }
      ]
    },
    {
      "cell_type": "markdown",
      "source": [
        "**Ward - euclidean (K=4)**"
      ],
      "metadata": {
        "id": "8HgtOcvjDGs5"
      }
    },
    {
      "cell_type": "code",
      "source": [
        "ward = AgglomerativeClustering(n_clusters=4, linkage='ward', compute_distances=True)\n",
        "yw = ward.fit(X)\n",
        "labels = yw.labels_\n",
        "metrics.silhouette_score(X, labels, metric='euclidean')"
      ],
      "metadata": {
        "colab": {
          "base_uri": "https://localhost:8080/"
        },
        "id": "JXIgpLUPDGg7",
        "outputId": "e3cdba52-799c-49f4-9996-769ecacc3752"
      },
      "execution_count": null,
      "outputs": [
        {
          "output_type": "execute_result",
          "data": {
            "text/plain": [
              "0.24372253214398754"
            ]
          },
          "metadata": {},
          "execution_count": 182
        }
      ]
    },
    {
      "cell_type": "markdown",
      "source": [
        "**Complete - manhattan (K=3)**"
      ],
      "metadata": {
        "id": "AWUZ2mr0DT2c"
      }
    },
    {
      "cell_type": "code",
      "source": [
        "complete2 = AgglomerativeClustering(n_clusters=3, linkage='complete', affinity='manhattan', compute_distances=True)\n",
        "yc2 = complete2.fit(X)\n",
        "labels = yc2.labels_\n",
        "metrics.silhouette_score(X, labels, metric='euclidean')"
      ],
      "metadata": {
        "colab": {
          "base_uri": "https://localhost:8080/"
        },
        "id": "EtJF4A4oDTsS",
        "outputId": "ea3dd4a5-bb9d-49b2-b736-7f8dda61c29c"
      },
      "execution_count": null,
      "outputs": [
        {
          "output_type": "execute_result",
          "data": {
            "text/plain": [
              "0.23591444031260464"
            ]
          },
          "metadata": {},
          "execution_count": 183
        }
      ]
    },
    {
      "cell_type": "markdown",
      "source": [
        "De entre las distintas opciones evaluadas la que obtiene el coeficiente de Silhouette más alto es con linkage='average' y una métrica euclídea (0.35 aprox), corroborando nuestra hipótesis inicial, por tanto, sería esta nuestra opción elegida para llevar a cabo el clustering de nuestro dataset mediante un clustering jerárquico."
      ],
      "metadata": {
        "id": "xevJMpuyBMl8"
      }
    },
    {
      "cell_type": "markdown",
      "metadata": {
        "id": "BJUNc3GxXvSb"
      },
      "source": [
        "## **Partitional clustering**"
      ]
    },
    {
      "cell_type": "markdown",
      "source": [
        "Hacemos uso del algoritmo KMeans para dividir los datos en distintos clusters. Para ello, evaluamos cauál es el número de clusters óptimo mediante la evaluación de la métrica de disimilaridad (hallando codo de Jambú) apoyándonos en el coeficiente de Silhouette.\n",
        "\n",
        "El codo de Jambú indica que K=3 sería lo mas conveniente puesto que a partir de entonces no hay una gran disminución en la disimilaritud. El coeficiente de Silhouette es ligeramente mayor con K=2 que con K=3, por lo que concluimos que K=3 es lo más adecuado puesto que la pequeña disminución en este coeficiente también va acompañada de una gran disminución en la disimilaridad"
      ],
      "metadata": {
        "id": "hlPpUuwcxK3q"
      }
    },
    {
      "cell_type": "code",
      "execution_count": null,
      "metadata": {
        "colab": {
          "base_uri": "https://localhost:8080/",
          "height": 573
        },
        "id": "MKwOg_ORXvSc",
        "outputId": "6d3ef1e4-3393-4672-abed-9fbb11303bae"
      },
      "outputs": [
        {
          "output_type": "display_data",
          "data": {
            "text/plain": [
              "<Figure size 432x288 with 1 Axes>"
            ],
            "image/png": "[encoded data removed]"
          },
          "metadata": {
            "needs_background": "light"
          }
        },
        {
          "output_type": "display_data",
          "data": {
            "text/plain": [
              "<Figure size 432x288 with 1 Axes>"
            ],
            "image/png": "[encoded data removed]"
          },
          "metadata": {
            "needs_background": "light"
          }
        }
      ],
      "source": [
        "wcss = []\n",
        "silhouette = []\n",
        "for i in range(2,11):\n",
        "    kmeans = KMeans(n_clusters=i, n_init=20)\n",
        "    kmeans.fit(X)  # Aplico KMeans a la bd\n",
        "    wcss.append(kmeans.inertia_)\n",
        "    labels = kmeans.labels_\n",
        "    silhouette.append(metrics.silhouette_score(X, labels, metric='euclidean'))\n",
        "\n",
        "# Visualizamos el resultado en un plot\n",
        "plt.figure(0)\n",
        "plt.plot(range(2,11), wcss)\n",
        "plt.title('Codo de Jambú')\n",
        "plt.xlabel('Número de clusters')\n",
        "plt.ylabel('WCSS')\n",
        "plt.show()\n",
        "\n",
        "plt.figure(1)\n",
        "plt.plot(range(2,11), silhouette)\n",
        "plt.title('Silhouette')\n",
        "plt.xlabel('Número de clusters')\n",
        "plt.ylabel('silhouette_coef')\n",
        "plt.show()"
      ]
    },
    {
      "cell_type": "markdown",
      "metadata": {
        "id": "YnVQyzPwXvSc"
      },
      "source": [
        "Tras haber concluido que tendremos 3 clusters aplicamos el algoritmo KMeans y establecemos que el algoritmo se ejecute 20 veces con distintos centroides iniciales para tratar de lograr un mejor resultado."
      ]
    },
    {
      "cell_type": "code",
      "execution_count": null,
      "metadata": {
        "colab": {
          "base_uri": "https://localhost:8080/",
          "height": 424
        },
        "id": "eqgyA3_7XvSc",
        "outputId": "321c7248-1da0-4778-9ce9-8e1a61962656"
      },
      "outputs": [
        {
          "output_type": "execute_result",
          "data": {
            "text/plain": [
              "     ML   LA        OR   BD   ST   PR  Cluster\n",
              "0   7.7  8.2  6.000000  6.7  8.1  9.0        0\n",
              "1   6.3  7.8  6.442932  7.0  8.1  9.0        0\n",
              "2   7.5  7.3  7.000000  6.6  8.1  9.0        0\n",
              "3   5.5  7.2  6.000000  7.0  6.8  7.0        0\n",
              "4   6.3  6.3  6.000000  7.0  6.3  7.0        0\n",
              "..  ...  ...       ...  ...  ...  ...      ...\n",
              "81  1.5  3.8  3.000000  2.8  1.7  1.0        2\n",
              "82  0.5  3.0  4.000000  3.6  1.8  1.0        2\n",
              "83  1.2  3.0  3.000000  3.5  2.1  3.0        2\n",
              "84  0.5  2.6  1.000000  2.0  2.0  3.0        2\n",
              "85  0.0  4.0  2.000000  0.9  1.4  1.0        2\n",
              "\n",
              "[86 rows x 7 columns]"
            ],
            "text/html": [
              "\n",
              "  <div id=\"df-a0766142-3b85-4f10-9c1d-ca80a0c50d9f\">\n",
              "    <div class=\"colab-df-container\">\n",
              "      <div>\n",
              "<style scoped>\n",
              "    .dataframe tbody tr th:only-of-type {\n",
              "        vertical-align: middle;\n",
              "    }\n",
              "\n",
              "    .dataframe tbody tr th {\n",
              "        vertical-align: top;\n",
              "    }\n",
              "\n",
              "    .dataframe thead th {\n",
              "        text-align: right;\n",
              "    }\n",
              "</style>\n",
              "<table border=\"1\" class=\"dataframe\">\n",
              "  <thead>\n",
              "    <tr style=\"text-align: right;\">\n",
              "      <th></th>\n",
              "      <th>ML</th>\n",
              "      <th>LA</th>\n",
              "      <th>OR</th>\n",
              "      <th>BD</th>\n",
              "      <th>ST</th>\n",
              "      <th>PR</th>\n",
              "      <th>Cluster</th>\n",
              "    </tr>\n",
              "  </thead>\n",
              "  <tbody>\n",
              "    <tr>\n",
              "      <th>0</th>\n",
              "      <td>7.7</td>\n",
              "      <td>8.2</td>\n",
              "      <td>6.000000</td>\n",
              "      <td>6.7</td>\n",
              "      <td>8.1</td>\n",
              "      <td>9.0</td>\n",
              "      <td>0</td>\n",
              "    </tr>\n",
              "    <tr>\n",
              "      <th>1</th>\n",
              "      <td>6.3</td>\n",
              "      <td>7.8</td>\n",
              "      <td>6.442932</td>\n",
              "      <td>7.0</td>\n",
              "      <td>8.1</td>\n",
              "      <td>9.0</td>\n",
              "      <td>0</td>\n",
              "    </tr>\n",
              "    <tr>\n",
              "      <th>2</th>\n",
              "      <td>7.5</td>\n",
              "      <td>7.3</td>\n",
              "      <td>7.000000</td>\n",
              "      <td>6.6</td>\n",
              "      <td>8.1</td>\n",
              "      <td>9.0</td>\n",
              "      <td>0</td>\n",
              "    </tr>\n",
              "    <tr>\n",
              "      <th>3</th>\n",
              "      <td>5.5</td>\n",
              "      <td>7.2</td>\n",
              "      <td>6.000000</td>\n",
              "      <td>7.0</td>\n",
              "      <td>6.8</td>\n",
              "      <td>7.0</td>\n",
              "      <td>0</td>\n",
              "    </tr>\n",
              "    <tr>\n",
              "      <th>4</th>\n",
              "      <td>6.3</td>\n",
              "      <td>6.3</td>\n",
              "      <td>6.000000</td>\n",
              "      <td>7.0</td>\n",
              "      <td>6.3</td>\n",
              "      <td>7.0</td>\n",
              "      <td>0</td>\n",
              "    </tr>\n",
              "    <tr>\n",
              "      <th>...</th>\n",
              "      <td>...</td>\n",
              "      <td>...</td>\n",
              "      <td>...</td>\n",
              "      <td>...</td>\n",
              "      <td>...</td>\n",
              "      <td>...</td>\n",
              "      <td>...</td>\n",
              "    </tr>\n",
              "    <tr>\n",
              "      <th>81</th>\n",
              "      <td>1.5</td>\n",
              "      <td>3.8</td>\n",
              "      <td>3.000000</td>\n",
              "      <td>2.8</td>\n",
              "      <td>1.7</td>\n",
              "      <td>1.0</td>\n",
              "      <td>2</td>\n",
              "    </tr>\n",
              "    <tr>\n",
              "      <th>82</th>\n",
              "      <td>0.5</td>\n",
              "      <td>3.0</td>\n",
              "      <td>4.000000</td>\n",
              "      <td>3.6</td>\n",
              "      <td>1.8</td>\n",
              "      <td>1.0</td>\n",
              "      <td>2</td>\n",
              "    </tr>\n",
              "    <tr>\n",
              "      <th>83</th>\n",
              "      <td>1.2</td>\n",
              "      <td>3.0</td>\n",
              "      <td>3.000000</td>\n",
              "      <td>3.5</td>\n",
              "      <td>2.1</td>\n",
              "      <td>3.0</td>\n",
              "      <td>2</td>\n",
              "    </tr>\n",
              "    <tr>\n",
              "      <th>84</th>\n",
              "      <td>0.5</td>\n",
              "      <td>2.6</td>\n",
              "      <td>1.000000</td>\n",
              "      <td>2.0</td>\n",
              "      <td>2.0</td>\n",
              "      <td>3.0</td>\n",
              "      <td>2</td>\n",
              "    </tr>\n",
              "    <tr>\n",
              "      <th>85</th>\n",
              "      <td>0.0</td>\n",
              "      <td>4.0</td>\n",
              "      <td>2.000000</td>\n",
              "      <td>0.9</td>\n",
              "      <td>1.4</td>\n",
              "      <td>1.0</td>\n",
              "      <td>2</td>\n",
              "    </tr>\n",
              "  </tbody>\n",
              "</table>\n",
              "<p>86 rows × 7 columns</p>\n",
              "</div>\n",
              "      <button class=\"colab-df-convert\" onclick=\"convertToInteractive('df-a0766142-3b85-4f10-9c1d-ca80a0c50d9f')\"\n",
              "              title=\"Convert this dataframe to an interactive table.\"\n",
              "              style=\"display:none;\">\n",
              "        \n",
              "  <svg xmlns=\"http://www.w3.org/2000/svg\" height=\"24px\"viewBox=\"0 0 24 24\"\n",
              "       width=\"24px\">\n",
              "    <path d=\"M0 0h24v24H0V0z\" fill=\"none\"/>\n",
              "    <path d=\"M18.56 5.44l.94 2.06.94-2.06 2.06-.94-2.06-.94-.94-2.06-.94 2.06-2.06.94zm-11 1L8.5 8.5l.94-2.06 2.06-.94-2.06-.94L8.5 2.5l-.94 2.06-2.06.94zm10 10l.94 2.06.94-2.06 2.06-.94-2.06-.94-.94-2.06-.94 2.06-2.06.94z\"/><path d=\"M17.41 7.96l-1.37-1.37c-.4-.4-.92-.59-1.43-.59-.52 0-1.04.2-1.43.59L10.3 9.45l-7.72 7.72c-.78.78-.78 2.05 0 2.83L4 21.41c.39.39.9.59 1.41.59.51 0 1.02-.2 1.41-.59l7.78-7.78 2.81-2.81c.8-.78.8-2.07 0-2.86zM5.41 20L4 18.59l7.72-7.72 1.47 1.35L5.41 20z\"/>\n",
              "  </svg>\n",
              "      </button>\n",
              "      \n",
              "  <style>\n",
              "    .colab-df-container {\n",
              "      display:flex;\n",
              "      flex-wrap:wrap;\n",
              "      gap: 12px;\n",
              "    }\n",
              "\n",
              "    .colab-df-convert {\n",
              "      background-color: #E8F0FE;\n",
              "      border: none;\n",
              "      border-radius: 50%;\n",
              "      cursor: pointer;\n",
              "      display: none;\n",
              "      fill: #1967D2;\n",
              "      height: 32px;\n",
              "      padding: 0 0 0 0;\n",
              "      width: 32px;\n",
              "    }\n",
              "\n",
              "    .colab-df-convert:hover {\n",
              "      background-color: #E2EBFA;\n",
              "      box-shadow: 0px 1px 2px rgba(60, 64, 67, 0.3), 0px 1px 3px 1px rgba(60, 64, 67, 0.15);\n",
              "      fill: #174EA6;\n",
              "    }\n",
              "\n",
              "    [theme=dark] .colab-df-convert {\n",
              "      background-color: #3B4455;\n",
              "      fill: #D2E3FC;\n",
              "    }\n",
              "\n",
              "    [theme=dark] .colab-df-convert:hover {\n",
              "      background-color: #434B5C;\n",
              "      box-shadow: 0px 1px 3px 1px rgba(0, 0, 0, 0.15);\n",
              "      filter: drop-shadow(0px 1px 2px rgba(0, 0, 0, 0.3));\n",
              "      fill: #FFFFFF;\n",
              "    }\n",
              "  </style>\n",
              "\n",
              "      <script>\n",
              "        const buttonEl =\n",
              "          document.querySelector('#df-a0766142-3b85-4f10-9c1d-ca80a0c50d9f button.colab-df-convert');\n",
              "        buttonEl.style.display =\n",
              "          google.colab.kernel.accessAllowed ? 'block' : 'none';\n",
              "\n",
              "        async function convertToInteractive(key) {\n",
              "          const element = document.querySelector('#df-a0766142-3b85-4f10-9c1d-ca80a0c50d9f');\n",
              "          const dataTable =\n",
              "            await google.colab.kernel.invokeFunction('convertToInteractive',\n",
              "                                                     [key], {});\n",
              "          if (!dataTable) return;\n",
              "\n",
              "          const docLinkHtml = 'Like what you see? Visit the ' +\n",
              "            '<a target=\"_blank\" href=https://colab.research.google.com/notebooks/data_table.ipynb>data table notebook</a>'\n",
              "            + ' to learn more about interactive tables.';\n",
              "          element.innerHTML = '';\n",
              "          dataTable['output_type'] = 'display_data';\n",
              "          await google.colab.output.renderOutput(dataTable, element);\n",
              "          const docLink = document.createElement('div');\n",
              "          docLink.innerHTML = docLinkHtml;\n",
              "          element.appendChild(docLink);\n",
              "        }\n",
              "      </script>\n",
              "    </div>\n",
              "  </div>\n",
              "  "
            ]
          },
          "metadata": {},
          "execution_count": 185
        }
      ],
      "source": [
        "kmeans = KMeans(n_clusters=3, n_init=20)\n",
        "y_predicted = kmeans.fit_predict(X)\n",
        "X['Cluster'] = y_predicted\n",
        "X"
      ]
    },
    {
      "cell_type": "markdown",
      "source": [
        "Representamos en un scatter plot los distintos clusters en 2 dimensiones (ML, ST), aún así no podemos sacar conclusiones sobre cómo se han generado los clusters puesto que no podemos visualizarlo en n-dimensiones."
      ],
      "metadata": {
        "id": "oqOMzncd0W54"
      }
    },
    {
      "cell_type": "code",
      "execution_count": null,
      "metadata": {
        "colab": {
          "base_uri": "https://localhost:8080/",
          "height": 282
        },
        "id": "D8IJS8ziXvSd",
        "outputId": "e784d603-4f24-4cd8-8560-2d76ed1f5b0b"
      },
      "outputs": [
        {
          "output_type": "execute_result",
          "data": {
            "text/plain": [
              "<matplotlib.collections.PathCollection at 0x7f3ddb069ad0>"
            ]
          },
          "metadata": {},
          "execution_count": 186
        },
        {
          "output_type": "display_data",
          "data": {
            "text/plain": [
              "<Figure size 432x288 with 1 Axes>"
            ],
            "image/png": "[encoded data removed]"
          },
          "metadata": {
            "needs_background": "light"
          }
        }
      ],
      "source": [
        "X0 = X[X.Cluster==0]\n",
        "X1 = X[X.Cluster==1]\n",
        "X2 = X[X.Cluster==2]\n",
        "\n",
        "plt.scatter(X0.ML, X0.ST, color='green')\n",
        "plt.scatter(X1.ML, X1.ST, color='red')\n",
        "plt.scatter(X2.ML, X2.ST, color='black')"
      ]
    },
    {
      "cell_type": "markdown",
      "source": [
        "Evaluamos el modelo mediante el coeficiente de Silhouette y nos da un resultado relativamente bajo (0.3 aprox). Esto no tiene por qué significar que el modelo sea incorrecto, puede ser tan solo que los clusters se encuentren muy cerca los unos de los otros."
      ],
      "metadata": {
        "id": "m0lsm_C50uHC"
      }
    },
    {
      "cell_type": "code",
      "execution_count": null,
      "metadata": {
        "colab": {
          "base_uri": "https://localhost:8080/"
        },
        "id": "hKpAvmIpXvSd",
        "outputId": "1967dd85-c57c-4ca2-ed29-8fb57e5a451f"
      },
      "outputs": [
        {
          "output_type": "stream",
          "name": "stdout",
          "text": [
            "0.3432894993891437\n",
            "[ 0.39248699  0.44655308  0.41878874  0.4159345   0.37528311  0.44855207\n",
            "  0.4286874   0.00613741  0.13944012 -0.06190477  0.26293197  0.42488099\n",
            "  0.4618635   0.43707342  0.49861013  0.25147216  0.28809957  0.2563654\n",
            "  0.26293222  0.25585886  0.2224335   0.32786248  0.3125037   0.38231853\n",
            "  0.51392219  0.33602988  0.49241498  0.20745285  0.39589209  0.52128811\n",
            "  0.16144743  0.21979671  0.47398932  0.43890053  0.51144658  0.54578958\n",
            "  0.53436536  0.42541273  0.37537658  0.50785929  0.45106341  0.55021586\n",
            "  0.43567473  0.47783025  0.48180235  0.36963543  0.46322026  0.47364134\n",
            "  0.40832869  0.2979385   0.34675493  0.26704926  0.34906008 -0.02997355\n",
            "  0.55657075  0.55657075  0.40583154  0.37425385  0.27447546  0.55657075\n",
            "  0.26945019  0.13285778  0.55657075  0.02896622  0.19478494  0.1816176\n",
            "  0.26516627  0.1687704   0.21416896  0.10995498  0.09267951  0.27597152\n",
            "  0.21097631  0.15187989  0.36360249  0.28341204  0.26165029  0.2565731\n",
            "  0.219785    0.34328624  0.45987963  0.47138383  0.43745315  0.39330162\n",
            "  0.37632653  0.4193638 ]\n"
          ]
        }
      ],
      "source": [
        "labels = kmeans.labels_\n",
        "mean_sil = metrics.silhouette_score(X, labels, metric='euclidean')\n",
        "point_sil = metrics.silhouette_samples(X, labels, metric='euclidean')\n",
        "\n",
        "print(mean_sil) \n",
        "print(point_sil)"
      ]
    },
    {
      "cell_type": "markdown",
      "source": [
        "# **CONCLUSIÓN**\n",
        "\n",
        "A modo de conclusión, y en base a lo observado previamente podriamos intuir que el dataset contiene 3 clusters correspondientes a alumnos con notas bajas, con notas altas, y alumnos con nota medias, por ello la existencia de un cluster mayor que el resto (la mayoría de muestras están alrededor de la media). Aún así esto tan solo sería una mera hipótesis. \n",
        "\n",
        "En cuanto a algoritmos de clustering, ambos concluyen que 3 sería el número de clusters más adecuado y ambos obtienen un coeficiente de Silhouette muy similar, posiblemente ambos algoritmos hagan clusterings similares."
      ],
      "metadata": {
        "id": "vEq_NZ9sF8iU"
      }
    }
  ],
  "metadata": {
    "colab": {
      "collapsed_sections": [],
      "provenance": []
    },
    "kernelspec": {
      "display_name": "Python 3 (ipykernel)",
      "language": "python",
      "name": "python3"
    },
    "language_info": {
      "codemirror_mode": {
        "name": "ipython",
        "version": 3
      },
      "file_extension": ".py",
      "mimetype": "text/x-python",
      "name": "python",
      "nbconvert_exporter": "python",
      "pygments_lexer": "ipython3",
      "version": "3.9.13"
    }
  },
  "nbformat": 4,
  "nbformat_minor": 0
}